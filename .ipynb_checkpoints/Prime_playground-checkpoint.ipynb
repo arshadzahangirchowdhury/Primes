{
 "cells": [
  {
   "cell_type": "code",
   "execution_count": 91,
   "id": "34e98dcc",
   "metadata": {},
   "outputs": [],
   "source": [
    "def is_divisible(x):\n",
    "    ''' returns true if x is divided by any one number starting from 2 upto the half of the number + 1'''\n",
    "    out = []\n",
    "    for i in range(2,x//2 +1):\n",
    "        out.append(x%i)\n",
    "\n",
    "    return 0 in out"
   ]
  },
  {
   "cell_type": "code",
   "execution_count": 107,
   "id": "cd586395",
   "metadata": {},
   "outputs": [],
   "source": [
    "def all_primes(x):\n",
    "    if isinstance(x,int):\n",
    "        if x<3:\n",
    "            raise ValueError('x must be greater than 3')\n",
    "        else:\n",
    "            primes = [2,3]\n",
    "            count=2\n",
    "            for i in range(0,x):\n",
    "                if i > 3 :\n",
    "                    if not is_divisible(i):\n",
    "                        count=count+1\n",
    "                        primes.append(i)\n",
    "\n",
    "    \n",
    "    else: \n",
    "        raise TypeError(\"x must be integer\")\n",
    "\n",
    "    return primes\n",
    "        "
   ]
  },
  {
   "cell_type": "code",
   "execution_count": 108,
   "id": "25ed8876",
   "metadata": {},
   "outputs": [
    {
     "data": {
      "text/plain": [
       "25"
      ]
     },
     "execution_count": 108,
     "metadata": {},
     "output_type": "execute_result"
    }
   ],
   "source": [
    "len(all_primes(100))"
   ]
  },
  {
   "cell_type": "code",
   "execution_count": 78,
   "id": "77f74dea",
   "metadata": {},
   "outputs": [
    {
     "data": {
      "text/plain": [
       "3"
      ]
     },
     "execution_count": 78,
     "metadata": {},
     "output_type": "execute_result"
    }
   ],
   "source": [
    "7//2"
   ]
  },
  {
   "cell_type": "code",
   "execution_count": 86,
   "id": "100dfde0",
   "metadata": {},
   "outputs": [],
   "source": [
    "\n",
    "    \n",
    "    "
   ]
  },
  {
   "cell_type": "code",
   "execution_count": 90,
   "id": "301bb351",
   "metadata": {},
   "outputs": [
    {
     "data": {
      "text/plain": [
       "False"
      ]
     },
     "execution_count": 90,
     "metadata": {},
     "output_type": "execute_result"
    }
   ],
   "source": [
    "is_divisible(7)"
   ]
  },
  {
   "cell_type": "code",
   "execution_count": null,
   "id": "2be1bb08",
   "metadata": {},
   "outputs": [],
   "source": []
  }
 ],
 "metadata": {
  "kernelspec": {
   "display_name": "Python 3 (ipykernel)",
   "language": "python",
   "name": "python3"
  },
  "language_info": {
   "codemirror_mode": {
    "name": "ipython",
    "version": 3
   },
   "file_extension": ".py",
   "mimetype": "text/x-python",
   "name": "python",
   "nbconvert_exporter": "python",
   "pygments_lexer": "ipython3",
   "version": "3.9.13"
  }
 },
 "nbformat": 4,
 "nbformat_minor": 5
}

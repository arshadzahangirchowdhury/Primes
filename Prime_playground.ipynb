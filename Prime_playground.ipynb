{
 "cells": [
  {
   "cell_type": "code",
   "execution_count": 119,
   "id": "cb7f770f",
   "metadata": {},
   "outputs": [],
   "source": [
    "def is_divisible(x):\n",
    "    ''' returns true if x is divisible by any one number starting from 2 upto the half of the number + 1'''\n",
    "    out = []\n",
    "    for i in range(2,x//2 +1):\n",
    "        if i==2:\n",
    "            out.append(x%i)\n",
    "        if i>2 and i%2 !=0:\n",
    "            out.append(x%i)\n",
    "\n",
    "    return 0 in out"
   ]
  },
  {
   "cell_type": "code",
   "execution_count": 120,
   "id": "6055cc0d",
   "metadata": {},
   "outputs": [],
   "source": [
    "def all_primes(x):\n",
    "    if isinstance(x,int):\n",
    "        if x<3:\n",
    "            raise ValueError('x must be greater than 3')\n",
    "        else:\n",
    "            primes = [2,3]\n",
    "            count=2\n",
    "            for i in range(0,x):\n",
    "                if i > 3 :\n",
    "                    if not is_divisible(i):\n",
    "                        count=count+1\n",
    "                        primes.append(i)\n",
    "\n",
    "    \n",
    "    else: \n",
    "        raise TypeError(\"x must be integer\")\n",
    "\n",
    "    return primes\n",
    "        "
   ]
  },
  {
   "cell_type": "code",
   "execution_count": 126,
   "id": "d553d02b",
   "metadata": {},
   "outputs": [
    {
     "name": "stdout",
     "output_type": "stream",
     "text": [
      "Execution time: 2.884582042694092 seconds\n"
     ]
    }
   ],
   "source": [
    "import time\n",
    "\n",
    "st = time.time()\n",
    "\n",
    "len(all_primes(10000))\n",
    "\n",
    "et = time.time()\n",
    "\n",
    "\n",
    "elapsed_time = et - st\n",
    "print('Execution time:', elapsed_time, 'seconds')"
   ]
  },
  {
   "cell_type": "code",
   "execution_count": 90,
   "id": "fed04821",
   "metadata": {},
   "outputs": [
    {
     "data": {
      "text/plain": [
       "False"
      ]
     },
     "execution_count": 90,
     "metadata": {},
     "output_type": "execute_result"
    }
   ],
   "source": [
    "is_divisible(7)"
   ]
  },
  {
   "cell_type": "code",
   "execution_count": null,
   "id": "d9df7562",
   "metadata": {},
   "outputs": [],
   "source": []
  }
 ],
 "metadata": {
  "kernelspec": {
   "display_name": "Python 3 (ipykernel)",
   "language": "python",
   "name": "python3"
  },
  "language_info": {
   "codemirror_mode": {
    "name": "ipython",
    "version": 3
   },
   "file_extension": ".py",
   "mimetype": "text/x-python",
   "name": "python",
   "nbconvert_exporter": "python",
   "pygments_lexer": "ipython3",
   "version": "3.9.13"
  }
 },
 "nbformat": 4,
 "nbformat_minor": 5
}
